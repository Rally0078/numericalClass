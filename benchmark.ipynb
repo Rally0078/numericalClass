{
 "cells": [
  {
   "cell_type": "code",
   "execution_count": 10,
   "metadata": {},
   "outputs": [],
   "source": [
    "import numpy as np\n",
    "import cupy as cp\n",
    "from timeit import timeit"
   ]
  },
  {
   "cell_type": "code",
   "execution_count": 11,
   "metadata": {},
   "outputs": [
    {
     "name": "stdout",
     "output_type": "stream",
     "text": [
      "CPU Time = 21.0745 seconds\n",
      "GPU Time = 0.0835 seconds\n"
     ]
    }
   ],
   "source": [
    "def cpuDot(x, y):\n",
    "    return np.dot(x, y)\n",
    "def gpuDot(x, y):\n",
    "    return cp.dot(x, y)\n",
    "\n",
    "resultCPU = timeit(\"cpuDot(x_cpu, y_cpu)\", setup=\"from __main__ import cpuDot; import numpy as np; x_cpu = np.random.uniform(0, 1, int(1e8)); y_cpu = np.random.uniform(0, 1, int(1e8)) \", number=500)\n",
    "print(f\"CPU Time = {resultCPU:.4f} seconds\")\n",
    "resultGPU = timeit(\"gpuDot(x_gpu, y_gpu)\", setup=\"from __main__ import gpuDot; import cupy as cp; x_gpu = cp.random.uniform(0, 1, int(1e8)); y_gpu = cp.random.uniform(0, 1, int(1e8)) \", number=500)\n",
    "print(f\"GPU Time = {resultGPU:.4f} seconds\")\n",
    "mempool = cp.get_default_memory_pool()\n",
    "mempool.free_all_blocks()\n",
    "pinned_mempool = cp.get_default_pinned_memory_pool()\n",
    "pinned_mempool.free_all_blocks()\n"
   ]
  },
  {
   "cell_type": "code",
   "execution_count": null,
   "metadata": {},
   "outputs": [],
   "source": []
  }
 ],
 "metadata": {
  "kernelspec": {
   "display_name": "base",
   "language": "python",
   "name": "python3"
  },
  "language_info": {
   "codemirror_mode": {
    "name": "ipython",
    "version": 3
   },
   "file_extension": ".py",
   "mimetype": "text/x-python",
   "name": "python",
   "nbconvert_exporter": "python",
   "pygments_lexer": "ipython3",
   "version": "3.9.18"
  }
 },
 "nbformat": 4,
 "nbformat_minor": 2
}
