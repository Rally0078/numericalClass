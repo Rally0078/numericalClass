{
 "cells": [
  {
   "cell_type": "code",
   "execution_count": 1,
   "metadata": {},
   "outputs": [],
   "source": [
    "import numpy as np\n",
    "import matplotlib.pyplot as plt\n",
    "import matplotlib.animation as animation"
   ]
  },
  {
   "cell_type": "markdown",
   "metadata": {},
   "source": [
    "# 1-D Heat Equation\n",
    "## $\\frac{\\partial u}{\\partial t} = D \\frac{\\partial^2u}{\\partial x^2}$\n",
    "\n",
    "Consider boundaries at $x=a$ and $x=b$. Discretize in both space and time: $h = (b-a)/M$ and $k = (t_f - t_i)/N$\n",
    "\n",
    "Discrete solution is of the form $w_{i,j}$ where $i$ indexes position from $i=0, 1,...,M$ and $j$ indexes time from $j=0,1,2,..., N$."
   ]
  },
  {
   "cell_type": "code",
   "execution_count": 9,
   "metadata": {},
   "outputs": [],
   "source": [
    "sigma = 0.2\n",
    "D = 0.6\n",
    "\n",
    "def PDESolver(a, b, N, tFin):\n",
    "    h = (b-a)/N\n",
    "    k = sigma * h**2/D\n",
    "    x_val = np.zeros(N)\n",
    "    t_val = np.arange(0, tFin, k)\n",
    "    \n",
    "    w = np.zeros(shape=(len(x_val), len(t_val)))\n",
    "    w[0, :] = w[-1, :] = 1.0 #Boundary values\n",
    "    \n",
    "    for j in range(1, len(t_val) -1):\n",
    "        w[1:-1, j+1] = sigma * w[0:-2, j] + (1-2*sigma)*w[1:-1,j] + sigma*w[2:,j]\n",
    "    return w\n",
    "    \n",
    "soln = PDESolver(0,1,50,5)"
   ]
  },
  {
   "cell_type": "code",
   "execution_count": 5,
   "metadata": {},
   "outputs": [
    {
     "name": "stdout",
     "output_type": "stream",
     "text": [
      "(50, 37500)\n"
     ]
    }
   ],
   "source": [
    "temps = soln[:,-1]\n",
    "x = np.linspace(0, 1, 50)\n",
    "print(soln.shape)\n",
    "N = 50\n",
    "a = 0.0\n",
    "b = 1.0\n",
    "h = (b-a)/N\n",
    "k = sigma * h**2/D"
   ]
  },
  {
   "cell_type": "code",
   "execution_count": 10,
   "metadata": {},
   "outputs": [],
   "source": [
    "fig, ax = plt.subplots(figsize=(12,8))\n",
    "line, = ax.plot([], [], lw = 3)\n",
    "maxFrames = len(soln[0, :])//60\n",
    "interval = 200\n",
    "frameRate = 50\n",
    "framesSkip = 10\n",
    "\n",
    "ax.set_xlim(0,1)\n",
    "ax.set_xticks(np.arange(0,1.1,0.1))\n",
    "ax.set_ylim(0,1)\n",
    "ax.set_yticks(np.arange(0,1.75,0.25))\n",
    "ax.set_xlabel(\"Position X\")\n",
    "ax.set_ylabel(\"Temperature\")\n",
    "ax.set_title(f\"Time t = {0.0} seconds\")\n",
    "\n",
    "def init():\n",
    "    line.set_data([], [])\n",
    "    return line,\n",
    "\n",
    "def update(frame):\n",
    "    ax.set_title(f\"Time t = {frame * framesSkip * k:.3f} seconds\")\n",
    "    y = soln[:,frame * framesSkip]\n",
    "    line.set_data(x, y)\n",
    "    return line, \n",
    "anim = animation.FuncAnimation(fig, update, init_func=init, frames=maxFrames, interval=interval, blit=True)\n",
    "anim.save(\"PDEtemp1.mp4\", writer=\"ffmpeg\",fps=frameRate)\n",
    "plt.close()"
   ]
  },
  {
   "cell_type": "code",
   "execution_count": 44,
   "metadata": {},
   "outputs": [
    {
     "name": "stdout",
     "output_type": "stream",
     "text": [
      "(50, 37500)\n"
     ]
    }
   ],
   "source": [
    "D=0.6\n",
    "\n",
    "def implicit(a,b,M,N,tFin):\n",
    "    h = (b-a)/M\n",
    "    k = (tFin)/N\n",
    "    sigma = D*k/h**2\n",
    "\n",
    "    u = np.zeros(shape=(M,N))\n",
    "    u[0,:] = u[-1,:] = 1.0\n",
    "    A = np.zeros(shape=(M-2,M-2))\n",
    "    for i in range(M-2):\n",
    "        A[i,i] = (1+2*sigma)\n",
    "    for i in range(1,M-2):\n",
    "        A[i,i-1] = A[i-1,i] = -1*sigma\n",
    "    b = np.zeros(shape=(M-2))\n",
    "    b[0] = b[-1] = 1.0\n",
    "    for j in range(1,N):\n",
    "        u[1:-1, j] = np.linalg.inv(A) @ (u[1:-1, j-1] + sigma * b)\n",
    "    return u\n",
    "\n",
    "M = 50\n",
    "N = 37500\n",
    "a = 0.0\n",
    "b = 1.0\n",
    "x = np.linspace(a,b,M)  #X axis position\n",
    "soln = implicit(a,b,M,N,5)\n",
    "k = 5/N\n",
    "temps = soln[:,-1]  #Y axis Temperature at final time\n",
    "print(soln.shape)"
   ]
  },
  {
   "cell_type": "code",
   "execution_count": 46,
   "metadata": {},
   "outputs": [],
   "source": [
    "fig, ax = plt.subplots(figsize=(12,8))\n",
    "\n",
    "line, = ax.plot([], [], lw = 3)\n",
    "maxFrames = len(soln[0, :])//60\n",
    "interval = 200\n",
    "frameRate = 50\n",
    "framesSkip = 10\n",
    "\n",
    "ax.set_xlim(0,1)\n",
    "ax.set_xticks(np.arange(0,1.1,0.1))\n",
    "ax.set_ylim(0,1)\n",
    "ax.set_yticks(np.arange(0,1.75,0.25))\n",
    "ax.set_xlabel(\"Position X\")\n",
    "ax.set_ylabel(\"Temperature\")\n",
    "ax.set_title(f\"Time t = {0.0} seconds\")\n",
    "\n",
    "def init():\n",
    "    line.set_data([], [])\n",
    "    return line,\n",
    "\n",
    "def update(frame):\n",
    "    ax.set_title(f\"Time t = {frame * framesSkip * k:.3f} seconds\")\n",
    "    y = soln[:,frame*framesSkip]\n",
    "    line.set_data(x, y)\n",
    "    return line, \n",
    "anim = animation.FuncAnimation(fig, update, init_func=init, frames=maxFrames, interval=interval, blit=True)\n",
    "anim.save(\"PDEtemp2.mp4\", writer=\"ffmpeg\",fps=frameRate)\n",
    "plt.close()"
   ]
  },
  {
   "cell_type": "code",
   "execution_count": null,
   "metadata": {},
   "outputs": [],
   "source": []
  }
 ],
 "metadata": {
  "kernelspec": {
   "display_name": "base",
   "language": "python",
   "name": "python3"
  },
  "language_info": {
   "codemirror_mode": {
    "name": "ipython",
    "version": 3
   },
   "file_extension": ".py",
   "mimetype": "text/x-python",
   "name": "python",
   "nbconvert_exporter": "python",
   "pygments_lexer": "ipython3",
   "version": "3.9.19"
  }
 },
 "nbformat": 4,
 "nbformat_minor": 2
}
