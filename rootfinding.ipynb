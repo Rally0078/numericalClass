{
 "cells": [
  {
   "cell_type": "code",
   "execution_count": 1,
   "metadata": {},
   "outputs": [],
   "source": [
    "import numpy as np"
   ]
  },
  {
   "cell_type": "markdown",
   "metadata": {},
   "source": [
    "## 1. Bisection"
   ]
  },
  {
   "cell_type": "code",
   "execution_count": 32,
   "metadata": {},
   "outputs": [
    {
     "name": "stdout",
     "output_type": "stream",
     "text": [
      "Root = 1.41424560546875\n"
     ]
    }
   ],
   "source": [
    "a = 1.0\n",
    "b = 2.0\n",
    "\n",
    "def f(x):\n",
    "    return x**2 - 2\n",
    "i = 0\n",
    "x = 0\n",
    "while a<=b:\n",
    "    x = (a+b)/2.0\n",
    "    if f(x) > 0:\n",
    "        b = x\n",
    "    elif f(x) < 0:\n",
    "        a = x\n",
    "    if i > 12:\n",
    "        break\n",
    "    i = i + 1\n",
    "\n",
    "print(f\"Root = {x}\")"
   ]
  },
  {
   "cell_type": "markdown",
   "metadata": {},
   "source": [
    "## 2. Newton-Raphson"
   ]
  },
  {
   "cell_type": "code",
   "execution_count": 36,
   "metadata": {},
   "outputs": [
    {
     "name": "stdout",
     "output_type": "stream",
     "text": [
      "Root = 1.4142135623730951\n"
     ]
    }
   ],
   "source": [
    "x_guess = 1\n",
    "for i in range(15):\n",
    "    x_new = x_guess\n",
    "    x_guess = x_guess - f(x_guess)/(2*x_guess)\n",
    "    if np.abs(x_new - x_guess) < 1e-8:\n",
    "        break\n",
    "print(f\"Root = {x_guess}\")"
   ]
  },
  {
   "cell_type": "markdown",
   "metadata": {},
   "source": [
    "## 3. Secant method"
   ]
  },
  {
   "cell_type": "code",
   "execution_count": 35,
   "metadata": {},
   "outputs": [
    {
     "name": "stdout",
     "output_type": "stream",
     "text": [
      "Root = 1.414213562373095\n"
     ]
    }
   ],
   "source": [
    "x = [1,3]\n",
    "\n",
    "for i in range(1, 15):\n",
    "    denom = f(x[i]) - f(x[i-1])\n",
    "    if np.abs(denom) < 1e-12:\n",
    "        break\n",
    "    x_val = x[i] - f(x[i]) * (x[i] - x[i-1])/denom\n",
    "    x.append(x_val)\n",
    "\n",
    "print(f\"Root = {x[-1]}\")"
   ]
  }
 ],
 "metadata": {
  "kernelspec": {
   "display_name": "base",
   "language": "python",
   "name": "python3"
  },
  "language_info": {
   "codemirror_mode": {
    "name": "ipython",
    "version": 3
   },
   "file_extension": ".py",
   "mimetype": "text/x-python",
   "name": "python",
   "nbconvert_exporter": "python",
   "pygments_lexer": "ipython3",
   "version": "3.9.19"
  }
 },
 "nbformat": 4,
 "nbformat_minor": 2
}
