{
 "cells": [
  {
   "cell_type": "code",
   "execution_count": 9,
   "metadata": {},
   "outputs": [],
   "source": [
    "import numpy as np"
   ]
  },
  {
   "cell_type": "code",
   "execution_count": 10,
   "metadata": {},
   "outputs": [],
   "source": [
    "def SimpsonThird(f, a, b, N, args=None):\n",
    "    h = (b-a)/N\n",
    "    x = np.linspace(a, b, N)\n",
    "    sum_2 = sum_3 = 0\n",
    "    for i in range(1, N, 2):\n",
    "        sum_2 = sum_2 + f(x[i],args)\n",
    "    for i in range(2, N, 2):\n",
    "        sum_3 = sum_3 + f(x[i],args)\n",
    "    return 1/3 * h * (f(a, args) + 4.0 * sum_2 + 2.0 * sum_3 + f(b, args))"
   ]
  },
  {
   "cell_type": "code",
   "execution_count": 11,
   "metadata": {},
   "outputs": [],
   "source": [
    "def SimpsonEighth(f, a, b, N, args=None):\n",
    "    h = (b-a)/N\n",
    "    x = np.linspace(a, b, N)\n",
    "    sum = 0\n",
    "    for i in range(1, N//3):\n",
    "        sum = sum + f(x[3*i],args) + 3 * f(x[3*i-1],args) + 3 * f(x[3*i-2],args) + f(x[3*i-3],args)\n",
    "    return 3*h*sum/8"
   ]
  },
  {
   "cell_type": "code",
   "execution_count": 12,
   "metadata": {},
   "outputs": [],
   "source": [
    "def Trapezoidal(f, a, b, N, args=None):\n",
    "    h = (b-a)/N\n",
    "    x = np.linspace(a, b, N)\n",
    "    sum = 0\n",
    "    for i in range(1,N):\n",
    "        sum = sum + f(x[i])\n",
    "    sum = h * (sum + (f(a, args) + f(b, args))/2)\n",
    "    return sum"
   ]
  },
  {
   "cell_type": "code",
   "execution_count": 13,
   "metadata": {},
   "outputs": [
    {
     "name": "stdout",
     "output_type": "stream",
     "text": [
      "1.9979983534190806\n",
      "1.9979555426547027\n",
      "1.9979983534190777\n"
     ]
    }
   ],
   "source": [
    "def integrand(x, args=None):\n",
    "    return np.sin(x)\n",
    "\n",
    "print(SimpsonThird(integrand, 0, np.pi, 1000))\n",
    "print(SimpsonEighth(integrand, 0, np.pi, 1000))\n",
    "print(Trapezoidal(integrand, 0, np.pi, 1000))"
   ]
  },
  {
   "cell_type": "markdown",
   "metadata": {},
   "source": [
    "## Numerically integrating simple pendulum\n",
    "\n",
    "$T(\\xi) = T_0 \\frac{2}{\\pi} \\int_0^{\\pi/2} \\frac{d\\phi}{(1 - \\xi^2 \\sin^2(\\phi))^{1/2}}$"
   ]
  },
  {
   "cell_type": "code",
   "execution_count": 34,
   "metadata": {},
   "outputs": [
    {
     "name": "stdout",
     "output_type": "stream",
     "text": [
      "2.3695191262433974\n"
     ]
    }
   ],
   "source": [
    "elliptic = lambda phi, x: 1/(1-x**2 * np.sin(phi)**2)**(1/2) \n",
    "g = 9.8\n",
    "l = 1\n",
    "theta_0 = np.pi/2\n",
    "xi = np.sin(theta_0/2)\n",
    "T0 = 2*np.pi*np.sqrt(l/g)\n",
    "\n",
    "timePeriod = T0 * 2/np.pi * SimpsonThird(elliptic, 0, np.pi/2, 1000, xi)\n",
    "print(timePeriod)"
   ]
  },
  {
   "cell_type": "code",
   "execution_count": 23,
   "metadata": {},
   "outputs": [
    {
     "name": "stdout",
     "output_type": "stream",
     "text": [
      "2.007089923154493\n"
     ]
    }
   ],
   "source": [
    "print(2*np.pi*np.sqrt(1/9.8))"
   ]
  },
  {
   "cell_type": "markdown",
   "metadata": {},
   "source": [
    "## Q1. Arc length"
   ]
  },
  {
   "cell_type": "code",
   "execution_count": 33,
   "metadata": {},
   "outputs": [
    {
     "name": "stdout",
     "output_type": "stream",
     "text": [
      "Result for Q1.a = 1.5992723876866468\n",
      "Result for Q1.b = 1.2932931231774192\n",
      "Result for Q1.c = 1.2729422424911867\n"
     ]
    }
   ],
   "source": [
    "def arclength(x,f):\n",
    "    return np.sqrt(1+(f(x))**2)\n",
    "deriv_xcubed = lambda x : 3*x**2\n",
    "deriv_tan = lambda x : 1/(np.cos(x))**2 \n",
    "deriv_arctan = lambda x: 1/(1+x**2)\n",
    "N = 32\n",
    "print(f\"Result for Q1.a = {SimpsonThird(arclength,0, 1, N, args=deriv_xcubed)}\")\n",
    "print(f\"Result for Q1.b = {SimpsonThird(arclength,0, np.pi/4, N, args=deriv_tan)}\")\n",
    "print(f\"Result for Q1.c = {SimpsonThird(arclength,0, 1, N, args=deriv_arctan)}\")\n"
   ]
  },
  {
   "cell_type": "markdown",
   "metadata": {},
   "source": [
    "## Q2. Integrate $\\int_{y=0}^{y=1} \\int_{x=0}^{x=2} e^{-xy} dx dy$"
   ]
  },
  {
   "cell_type": "code",
   "execution_count": null,
   "metadata": {},
   "outputs": [],
   "source": []
  }
 ],
 "metadata": {
  "kernelspec": {
   "display_name": "base",
   "language": "python",
   "name": "python3"
  },
  "language_info": {
   "codemirror_mode": {
    "name": "ipython",
    "version": 3
   },
   "file_extension": ".py",
   "mimetype": "text/x-python",
   "name": "python",
   "nbconvert_exporter": "python",
   "pygments_lexer": "ipython3",
   "version": "3.9.19"
  }
 },
 "nbformat": 4,
 "nbformat_minor": 2
}
