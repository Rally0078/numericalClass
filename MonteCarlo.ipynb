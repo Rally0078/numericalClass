{
 "cells": [
  {
   "cell_type": "markdown",
   "metadata": {},
   "source": [
    "## Monte Carlo integration\n",
    "\n",
    "Consider $\\frac{1}{b-a}\\int_a^b f(x) dx = \\bar{f}$\n",
    "\n",
    "$\\int_a^b f(x) dx = (b-a) \\bar{f}$\n",
    "\n",
    "or\n",
    "\n",
    "$\\int_a^b f(x) dx \\approx \\frac{(b-a)}{N} \\sum_i f_i(x_i)$\n",
    "\n",
    "Here, $x_i$ is a sampled point from a uniform distribution within the integration bounds, and $N$ is the number of samples.\n",
    "\n",
    "Example:\n",
    "$\\int_0^{2\\pi} sin^2(x) dx = \\pi$"
   ]
  },
  {
   "cell_type": "code",
   "execution_count": 3,
   "metadata": {},
   "outputs": [
    {
     "name": "stdout",
     "output_type": "stream",
     "text": [
      "Integral = 3.1415433413245206\n"
     ]
    }
   ],
   "source": [
    "import numpy as np\n",
    "\n",
    "a = 0\n",
    "b = 2*np.pi\n",
    "\n",
    "N = 10000000\n",
    "\n",
    "xrand = np.random.uniform(a, b, N)\n",
    "\n",
    "integral = 0.0\n",
    "\n",
    "integral = np.sum(np.sin(xrand)**2)\n",
    "\n",
    "print(f\"Integral = {(b-a)*integral/float(N)}\")"
   ]
  },
  {
   "cell_type": "code",
   "execution_count": null,
   "metadata": {},
   "outputs": [],
   "source": []
  }
 ],
 "metadata": {
  "kernelspec": {
   "display_name": "base",
   "language": "python",
   "name": "python3"
  },
  "language_info": {
   "codemirror_mode": {
    "name": "ipython",
    "version": 3
   },
   "file_extension": ".py",
   "mimetype": "text/x-python",
   "name": "python",
   "nbconvert_exporter": "python",
   "pygments_lexer": "ipython3",
   "version": "3.9.18"
  }
 },
 "nbformat": 4,
 "nbformat_minor": 2
}
